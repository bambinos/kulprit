{
 "cells": [
  {
   "cell_type": "markdown",
   "id": "c02d29e1",
   "metadata": {},
   "source": [
    "# Some people using `Kulprit`\n",
    "\n",
    "- Zhanbolat Magzumov, Mustafa Kumral. \"Application of the hierarchical Bayesian models to analyze semi-autogenous mill throughput\". 2025. _Minerals Engineering_ (232).\n",
    "- Jensen A Palmer, Kevin Chavez Lopez, Mark Laubach. \"Active Sampling and Sex Differences in Perceptual Decision Making in Rats\". 2025. biorxiv:10.1101/2025.10.25.684539."
   ]
  }
 ],
 "metadata": {
  "language_info": {
   "name": "python"
  }
 },
 "nbformat": 4,
 "nbformat_minor": 5
}
